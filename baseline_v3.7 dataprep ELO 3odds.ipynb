{
 "cells": [
  {
   "cell_type": "code",
   "execution_count": null,
   "metadata": {},
   "outputs": [],
   "source": [
    "# Standard library imports\n",
    "import os\n",
    "import sys\n",
    "import re\n",
    "import warnings\n",
    "import random\n",
    "import hashlib\n",
    "\n",
    "# Data manipulation and analysis\n",
    "import numpy as np\n",
    "import pandas as pd\n",
    "\n",
    "# Visualization libraries\n",
    "import matplotlib.pyplot as plt\n",
    "import seaborn as sns\n",
    "\n",
    "# Machine learning and preprocessing\n",
    "from sklearn.metrics import confusion_matrix, classification_report, precision_score\n",
    "from sklearn.model_selection import RandomizedSearchCV, TimeSeriesSplit\n",
    "from sklearn.pipeline import Pipeline\n",
    "from sklearn.preprocessing import StandardScaler  # Assuming you might need it\n",
    "\n",
    "# Specific models and tools\n",
    "from xgboost import XGBClassifier\n",
    "import xgboost as xgb\n",
    "\n",
    "# Encoding and feature selection\n",
    "from category_encoders import TargetEncoder  # Fixed the import based on usage\n",
    "from scipy.stats import randint, uniform\n",
    "\n",
    "# Model persistence\n",
    "from joblib import dump, load\n",
    "\n",
    "# Miscellaneous settings\n",
    "%matplotlib inline\n",
    "warnings.filterwarnings('ignore')\n"
   ]
  },
  {
   "cell_type": "code",
   "execution_count": null,
   "metadata": {},
   "outputs": [],
   "source": [
    "comps = [\n",
    "    'E0', \n",
    "    'E1', \n",
    "    \n",
    "    #'E2', 'E3',\n",
    "        \n",
    "    'SC0', \n",
    "    #'SC1',\n",
    "\n",
    "    'D1', 'D2',\n",
    "    'F1', 'F2',\n",
    "    'I1', 'I2',\n",
    "    'SP1','SP2',\n",
    "    'B1',\n",
    "    'G1',\n",
    "    'N1',\n",
    "    'P1',\n",
    "    'T1',\n",
    "]\n",
    "\n",
    "seasons = [\n",
    "    '2324', \n",
    "    '2223', '2122', '2021',\n",
    "    '1920', \n",
    "    #'1819', \n",
    "    #'1718', \n",
    "    #'1617',\n",
    "    #'1516', '1415', '1314', '1213',\n",
    "    #'1112', '1011', \n",
    "    #'0910', '0809',\n",
    "    #'0708', '0607', '0506', '0405',\n",
    "    #'0304', '0203', '0102', '0001',\n",
    "]\n",
    "\n",
    "countries = [\n",
    "    \"ARG\", \"AUT\", \"BRA\", \"CHN\",\n",
    "    \"DNK\", \"FIN\", \"IRL\", \"JPN\",\n",
    "    \"MEX\", \"NOR\", \"POL\", \"ROU\",\n",
    "    \"RUS\", \"SWE\", \"SWZ\", \"USA\",\n",
    "]\n",
    "\n",
    "fixtures = [\n",
    "    #\"fixtures\",\n",
    "    \"new_league_fixtures\"\n",
    "]\n",
    "\n",
    "content = \"euro_elo_3odds_5s\""
   ]
  },
  {
   "cell_type": "code",
   "execution_count": null,
   "metadata": {},
   "outputs": [],
   "source": [
    "# Load all filepaths into a list\n",
    "matches_files = []"
   ]
  },
  {
   "cell_type": "code",
   "execution_count": null,
   "metadata": {},
   "outputs": [],
   "source": [
    "for season in seasons:    \n",
    "    for comp in comps:  \n",
    "        #matches_files.append('data/scraped/%s/%s.csv' % (season, comp))\n",
    "        continue"
   ]
  },
  {
   "cell_type": "markdown",
   "metadata": {},
   "source": []
  },
  {
   "cell_type": "code",
   "execution_count": null,
   "metadata": {},
   "outputs": [],
   "source": [
    "for country in countries:    \n",
    "    matches_files.append('data/scraped/other/%s.csv' % (country))\n",
    "    continue"
   ]
  },
  {
   "cell_type": "code",
   "execution_count": null,
   "metadata": {},
   "outputs": [],
   "source": [
    "for fixture in fixtures:    \n",
    "    matches_files.append('data/scraped/fixtures/%s.csv' % (fixture))\n",
    "    continue"
   ]
  },
  {
   "cell_type": "code",
   "execution_count": null,
   "metadata": {},
   "outputs": [],
   "source": [
    "# Load and concatenate matches data into a single DataFrame\n",
    "df = pd.DataFrame()\n",
    "\n",
    "for file in matches_files:\n",
    "\n",
    "    try:\n",
    "\n",
    "        #year = re.search(r'(\\d{4})', file).group(1)\n",
    "        print(f'Loading {file}')\n",
    "\n",
    "        df_temp = pd.read_csv(file)\n",
    "\n",
    "        # add the year to the dataframe as a column 'Season'\n",
    "        #df_temp['Season'] = year\n",
    "\n",
    "        df = pd.concat([df, df_temp], ignore_index=True)\n",
    "    except:\n",
    "        # print an error message\n",
    "        print(f'Error: {file} not found')\n",
    "\n",
    "# print the amount of data loaded\n",
    "print(f\"Data loaded: {df.shape[0]} matches\")"
   ]
  },
  {
   "cell_type": "code",
   "execution_count": null,
   "metadata": {},
   "outputs": [],
   "source": [
    "df.head()"
   ]
  },
  {
   "cell_type": "code",
   "execution_count": null,
   "metadata": {},
   "outputs": [],
   "source": [
    "# Rename columns if they exist\n",
    "df.rename(columns={\n",
    "    'Country': 'Div',\n",
    "    'Home': 'HomeTeam',\n",
    "    'Away': 'AwayTeam',\n",
    "    'Res': 'FTR',\n",
    "\n",
    "}, inplace=True)"
   ]
  },
  {
   "cell_type": "code",
   "execution_count": null,
   "metadata": {},
   "outputs": [],
   "source": [
    "# Check for duplicate column names\n",
    "print(df.columns[df.columns.duplicated()])"
   ]
  },
  {
   "cell_type": "code",
   "execution_count": null,
   "metadata": {},
   "outputs": [],
   "source": [
    "# Convert 'Div' to a categorical type, a numeric representation of the division\n",
    "df['Div'] = df['Div'].astype('category').cat.codes"
   ]
  },
  {
   "cell_type": "code",
   "execution_count": null,
   "metadata": {},
   "outputs": [],
   "source": [
    "# Assuming 'teams' is a list of team names\n",
    "teams = pd.concat([df['HomeTeam'], df['AwayTeam']]).dropna().unique()\n",
    "teams.sort()\n",
    "\n",
    "# Creating a dictionary from team names to an incremental index number\n",
    "teams_dict = {team: index for index, team in enumerate(teams)}"
   ]
  },
  {
   "cell_type": "code",
   "execution_count": null,
   "metadata": {},
   "outputs": [],
   "source": [
    "# Save the dictionary to a file\n",
    "with open(f'data/teams_dict_{content}.txt', 'w') as file:\n",
    "    file.write(str(teams_dict))"
   ]
  },
  {
   "cell_type": "code",
   "execution_count": null,
   "metadata": {},
   "outputs": [],
   "source": [
    "# Create a unique list of HomeTeam and AwayTeam names combined, and add an index to each team\n",
    "teams = pd.concat([df['HomeTeam'], df['AwayTeam']]).dropna().unique()\n",
    "\n",
    "# Sort the teams alphabetically\n",
    "teams.sort()\n",
    "\n",
    "# Convert to an array of dictionaries\n",
    "teams = [{'team': team, 'index': index} for index, team in enumerate(teams)]\n",
    "\n",
    "df['Team_ID'] = df['HomeTeam'].map(teams_dict)\n",
    "df['Opp_ID'] = df['AwayTeam'].map(teams_dict)"
   ]
  },
  {
   "cell_type": "code",
   "execution_count": null,
   "metadata": {},
   "outputs": [],
   "source": [
    "# if the column 'Referee' exists, convert it to a categorical type\n",
    "if 'Referee' in df.columns:\n",
    "    # Create a unique list of Referees, and add an index to each Referee\n",
    "    referees = pd.concat([df['Referee']]).unique()\n",
    "\n",
    "    # Convert to an array of dictionaries\n",
    "    referees = [{'referee': referee, 'index': index} for index, referee in enumerate(referees)]\n",
    "\n",
    "else:\n",
    "    df['Referee'] = 0"
   ]
  },
  {
   "cell_type": "markdown",
   "metadata": {},
   "source": [
    "### Feature Engineering"
   ]
  },
  {
   "cell_type": "markdown",
   "metadata": {},
   "source": []
  },
  {
   "cell_type": "code",
   "execution_count": null,
   "metadata": {},
   "outputs": [],
   "source": [
    "# Correcting the creation of a unique list of Referees and adding an index to each Referee\n",
    "referees = df['Referee'].unique()  # This should directly refer to the 'Referee' column\n",
    "\n",
    "if len(referees) > 0:\n",
    "    # Convert to a dictionary with referee names as keys and their indices as values\n",
    "    referee_dict = {referee: index for index, referee in enumerate(referees)}\n",
    "\n",
    "    # Now map the 'Referee' column to these indices\n",
    "    df['Ref_ID'] = df['Referee'].map(referee_dict)\n",
    "else:\n",
    "    # If there are no referees, create a dummy column with all zeros\n",
    "    df['Ref_ID'] = 0"
   ]
  },
  {
   "cell_type": "code",
   "execution_count": null,
   "metadata": {},
   "outputs": [],
   "source": [
    "# Calculate ELO ratings for each team\n",
    "\n",
    "# Initialize ratings dictionary\n",
    "teams = pd.concat([df['Team_ID'], df['Opp_ID']]).unique()\n",
    "ratings = {team: 1500 for team in teams}\n",
    "\n",
    "def calculate_expected_score(rating_a, rating_b):\n",
    "    return 1 / (1 + 10 ** ((rating_b - rating_a) / 400))\n",
    "\n",
    "def update_elo(rating, actual_score, expected_score, k=30):\n",
    "\n",
    "    rating = rating + k * (actual_score - expected_score)\n",
    "\n",
    "    # Parse the rating as an integer with no decimal points\n",
    "    return int(rating)\n",
    "\n",
    "# Iterate over the DataFrame and update ELO ratings after each match\n",
    "elo_team = []\n",
    "elo_opp = []\n",
    "\n",
    "for index, row in df.iterrows():\n",
    "    home_team, away_team, home_score, away_score = row['Team_ID'], row['Opp_ID'], row['FTHG'], row['FTAG']\n",
    "    home_rating = ratings[home_team]\n",
    "    away_rating = ratings[away_team]\n",
    "    \n",
    "    # Calculate expected scores\n",
    "    expected_home = calculate_expected_score(home_rating, away_rating)\n",
    "    expected_away = calculate_expected_score(away_rating, home_rating)\n",
    "    \n",
    "    # Calculate actual scores\n",
    "    actual_home = 1 if home_score > away_score else 0.5 if home_score == away_score else 0\n",
    "    actual_away = 1 - actual_home\n",
    "    \n",
    "    # Update ratings\n",
    "    new_home_rating = update_elo(home_rating, actual_home, expected_home)\n",
    "    new_away_rating = update_elo(away_rating, actual_away, expected_away)\n",
    "    \n",
    "    # Store updated ratings in the ratings dictionary\n",
    "    ratings[home_team] = new_home_rating\n",
    "    ratings[away_team] = new_away_rating\n",
    "    \n",
    "    # Append current ratings to list\n",
    "    elo_team.append(new_home_rating)\n",
    "    elo_opp.append(new_away_rating)\n"
   ]
  },
  {
   "cell_type": "code",
   "execution_count": null,
   "metadata": {},
   "outputs": [],
   "source": [
    "# Assign new ELO ratings to the DataFrame\n",
    "df['team_elo'] = elo_team\n",
    "df['opp_elo'] = elo_opp"
   ]
  },
  {
   "cell_type": "code",
   "execution_count": null,
   "metadata": {},
   "outputs": [],
   "source": [
    "# Home field advantage: Add 100 to 'team_elo'\n",
    "#df['team_elo'] = df['team_elo'] + 100"
   ]
  },
  {
   "cell_type": "code",
   "execution_count": null,
   "metadata": {},
   "outputs": [],
   "source": [
    "def parse_date_to_int(date_str):\n",
    "    # Split the date_str by the \"/\" character into day, month, year\n",
    "    components = date_str.split('/')\n",
    "    \n",
    "    # If split was successful but not in expected format, try splitting by absence of separator for '%d%m%Y' or '%d%m%y'\n",
    "    if len(components) == 1:\n",
    "        if len(date_str) in [6, 8]:  # Length 6 for '%d%m%y', 8 for '%d%m%Y'\n",
    "            day, month = int(date_str[:2]), int(date_str[2:4])\n",
    "            year = int(date_str[4:])\n",
    "        else:\n",
    "            return 19000101  # Return default if format does not match expected\n",
    "    else:\n",
    "        day, month = int(components[0]), int(components[1])\n",
    "        year = int(components[2])\n",
    "    \n",
    "    # Adjust the year if it was only 2 characters long\n",
    "    if year < 100:\n",
    "        year += 2000\n",
    "    \n",
    "    # Create a date variable by using the day, month, year integers\n",
    "    # Note: Direct creation of date variable skipped to avoid unnecessary complexity,\n",
    "    # directly formatting to YYYYMMDD integer format instead.\n",
    "    date_int = int(f\"{year:04d}{month:02d}{day:02d}\")\n",
    "    \n",
    "    return date_int"
   ]
  },
  {
   "cell_type": "code",
   "execution_count": null,
   "metadata": {},
   "outputs": [],
   "source": [
    "df['Date'] = pd.to_datetime(df['Date'], errors='coerce', dayfirst=True)\n",
    "\n",
    "# Apply the modified function\n",
    "df['Date_temp'] = df['Date'].apply(lambda x: parse_date_to_int(x.strftime('%d/%m/%Y')) if pd.notnull(x) else 19000101)"
   ]
  },
  {
   "cell_type": "code",
   "execution_count": null,
   "metadata": {},
   "outputs": [],
   "source": [
    "# Day of the week as an integer\n",
    "df['DayOTW'] = df['Date'].dt.dayofweek"
   ]
  },
  {
   "cell_type": "code",
   "execution_count": null,
   "metadata": {},
   "outputs": [],
   "source": [
    "df['Time'] = df['Time'].fillna('00:00').str.replace(':', '').astype(int)"
   ]
  },
  {
   "cell_type": "code",
   "execution_count": null,
   "metadata": {},
   "outputs": [],
   "source": [
    "# Only keep the first 2 digits of the Time column, no decimals\n",
    "df['Time'] = df['Time'] // 100"
   ]
  },
  {
   "cell_type": "code",
   "execution_count": null,
   "metadata": {},
   "outputs": [],
   "source": [
    "df.columns = [re.sub(r'[<]', '_st_', str(col)) for col in df.columns]\n",
    "df.columns = [re.sub(r'[>]', '_gt_', str(col)) for col in df.columns]"
   ]
  },
  {
   "cell_type": "code",
   "execution_count": null,
   "metadata": {},
   "outputs": [],
   "source": [
    "# Sort df by Date_temp and Time\n",
    "df = df.sort_values(['Date_temp', 'Time'])"
   ]
  },
  {
   "cell_type": "code",
   "execution_count": null,
   "metadata": {},
   "outputs": [],
   "source": [
    "def points(df, row, team_column):\n",
    "    # Initialize points\n",
    "    total_points = 0\n",
    "\n",
    "    # Season of the current match\n",
    "    current_season = row['Season']\n",
    "\n",
    "    # Date of the current match\n",
    "    current_date = row['Date']\n",
    "\n",
    "    # Define the opponent column based on the team column\n",
    "    if team_column == 'Team_ID':\n",
    "        home_team_col = 'Team_ID'\n",
    "        away_team_col = 'Opp_ID'\n",
    "    else:\n",
    "        home_team_col = 'Opp_ID'\n",
    "        away_team_col = 'Team_ID'\n",
    "\n",
    "    # Filter DataFrame for matches from the same season before the current date\n",
    "    past_matches = df[\n",
    "        (df['Season'] == current_season) & \n",
    "        (df['Date'] < current_date) &\n",
    "        ((df[home_team_col] == row[team_column]) | (df[away_team_col] == row[team_column]))\n",
    "    ]\n",
    "\n",
    "    # Calculate points based on the results\n",
    "    for match in past_matches.itertuples():\n",
    "        if (getattr(match, home_team_col) == row[team_column] and getattr(match, 'FTR') == 'H') or \\\n",
    "           (getattr(match, away_team_col) == row[team_column] and getattr(match, 'FTR') == 'A'):\n",
    "            total_points += 3  # Win\n",
    "        elif getattr(match, 'FTR') == 'D':\n",
    "            total_points += 1  # Draw\n",
    "\n",
    "    return total_points\n"
   ]
  },
  {
   "cell_type": "code",
   "execution_count": null,
   "metadata": {},
   "outputs": [],
   "source": [
    "# Example usage to apply the function and create new columns\n",
    "df['team_points'] = df.apply(lambda x: points(df, x, 'Team_ID'), axis=1)\n",
    "df['opp_points'] = df.apply(lambda x: points(df, x, 'Opp_ID'), axis=1)"
   ]
  },
  {
   "cell_type": "code",
   "execution_count": null,
   "metadata": {},
   "outputs": [],
   "source": [
    "def history_vs_opponent_weighted(df, row, team_column):\n",
    "    # Determine opponent column based on team column\n",
    "    opponent_column = 'Team_ID' if team_column == 'Opp_ID' else 'Opp_ID'\n",
    "\n",
    "    # Combine year, month, and day into an integer 'Date_temp'\n",
    "    row_date_temp = row['Date'].year * 10000 + row['Date'].month * 100 + row['Date'].day\n",
    "\n",
    "    # Filter for matches between specified teams, excluding current match\n",
    "    mask = (\n",
    "        ((df[team_column] == row[team_column]) & (df[opponent_column] == row[opponent_column])) |\n",
    "        ((df[team_column] == row[opponent_column]) & (df[opponent_column] == row[team_column]))\n",
    "    ) & (df['Date_temp'] < row_date_temp)\n",
    "\n",
    "    filtered_matches = df[mask]\n",
    "    \n",
    "    if filtered_matches.empty:\n",
    "        return 0  # Return early if no matches found\n",
    "\n",
    "    # Sort by date and select top 5 recent matches\n",
    "    recent_matches = filtered_matches.sort_values(by='Date', ascending=False).head(5)\n",
    "    weights = list(range(len(recent_matches), 0, -1))  # Descending weights\n",
    "\n",
    "    # Calculate weighted score based on match results\n",
    "    weighted_score = sum(\n",
    "        (3 * weight if match.FTR == 'H' and match.__getattribute__(team_column) == match.Team_ID or\n",
    "                      match.FTR == 'A' and match.__getattribute__(team_column) != match.Team_ID else\n",
    "         1 * weight if match.FTR == 'D' else 0)\n",
    "        for match, weight in zip(recent_matches.itertuples(), weights)\n",
    "    )\n",
    "\n",
    "    # Normalize the weighted score by the sum of weights\n",
    "    return weighted_score / sum(weights) if weights else 0\n"
   ]
  },
  {
   "cell_type": "code",
   "execution_count": null,
   "metadata": {},
   "outputs": [],
   "source": [
    "# Apply the modified function to create new columns\n",
    "df['team_hist_vs'] = df.apply(lambda x: history_vs_opponent_weighted(df, x, 'Team_ID'), axis=1)\n",
    "df['opp_hist_vs'] = df.apply(lambda x: history_vs_opponent_weighted(df, x, 'Opp_ID'), axis=1)"
   ]
  },
  {
   "cell_type": "code",
   "execution_count": null,
   "metadata": {},
   "outputs": [],
   "source": [
    "def convert_odds(row):\n",
    "    odds_win, odds_draw, odds_lose = row['AvgH'], row['AvgD'], row['AvgA']\n",
    "    prob_win = 1 / odds_win\n",
    "    prob_draw = 1 / odds_draw\n",
    "    prob_lose = 1 / odds_lose\n",
    "    prob_not_win = prob_draw + prob_lose\n",
    "    return pd.Series([prob_win, prob_not_win], index=['probs_win', 'probs_not_win'])\n",
    "\n",
    "# Apply the function and create new columns\n",
    "#df[['probs_win', 'probs_not_win']] = df.apply(convert_odds, axis=1)\n",
    "\n",
    "#df = df.drop(columns=['AvgH', 'AvgD', 'AvgA'])"
   ]
  },
  {
   "cell_type": "code",
   "execution_count": null,
   "metadata": {},
   "outputs": [],
   "source": [
    "def team_form(df, row, perspective):\n",
    "    # Determine the team ID based on the perspective ('Team' or 'Opp')\n",
    "    if perspective == 'Team':\n",
    "        team_id = row['Team_ID']\n",
    "    elif perspective == 'Opp':\n",
    "        team_id = row['Opp_ID']\n",
    "    else:\n",
    "        raise ValueError(\"Perspective must be 'Team' or 'Opp'\")\n",
    "    \n",
    "    # Get the current match date\n",
    "    current_date = row['Date_temp']\n",
    "    \n",
    "    # Filter past matches for the team\n",
    "    past_matches = df[((df['Team_ID'] == team_id) | (df['Opp_ID'] == team_id)) &\n",
    "                      (df['Date_temp'] < current_date)].sort_values(by='Date_temp', ascending=False).head(5)\n",
    "    \n",
    "    # Initialize points\n",
    "    points = 0\n",
    "    \n",
    "    # Weights for the matches (most recent match has the highest weight)\n",
    "    weights = [5, 4, 3, 2, 1]\n",
    "    \n",
    "    # Calculate points with weights\n",
    "    weighted_points_sum = 0\n",
    "    total_weights = sum(weights[:len(past_matches)])  # Adjust the total weight in case of less than 5 matches\n",
    "    \n",
    "    for match, weight in zip(past_matches.itertuples(), weights):\n",
    "        if (match.Team_ID == team_id and match.FTR == 'H') or (match.Opp_ID == team_id and match.FTR == 'A'):\n",
    "            points += 3\n",
    "        elif match.FTR == 'D':\n",
    "            points += 1\n",
    "        else:\n",
    "            points += 0\n",
    "\n",
    "        weighted_points_sum += points * weight\n",
    "    \n",
    "    if total_weights > 0:\n",
    "\n",
    "        team_form = round(weighted_points_sum / total_weights, 2)\n",
    "\n",
    "        return team_form\n",
    "    else:\n",
    "        return 0  # Return 0 if no past matches found"
   ]
  },
  {
   "cell_type": "code",
   "execution_count": null,
   "metadata": {},
   "outputs": [],
   "source": [
    "df['team_form'] = [team_form(df, row, 'Team') for index, row in df.iterrows()]\n",
    "df['opp_form'] = [team_form(df, row, 'Opp') for index, row in df.iterrows()]"
   ]
  },
  {
   "cell_type": "code",
   "execution_count": null,
   "metadata": {},
   "outputs": [],
   "source": [
    "def rolling_avgs_combined(df, row, perspective):\n",
    "    # Determine the team ID based on the perspective ('Team' or 'Opp')\n",
    "    if perspective == 'Team':\n",
    "        team_id = row['Team_ID']\n",
    "    elif perspective == 'Opp':\n",
    "        team_id = row['Opp_ID']\n",
    "    else:\n",
    "        raise ValueError(\"Perspective must be 'Team' or 'Opp'\")\n",
    "    \n",
    "    # Get the current match date\n",
    "    current_date = row['Date_temp']\n",
    "    \n",
    "    # Filter past 5 matches for the team\n",
    "    past_matches = df[((df['Team_ID'] == team_id) | (df['Opp_ID'] == team_id)) &\n",
    "                      (df['Date_temp'] < current_date)].sort_values(by='Date_temp', ascending=False).head(5)\n",
    "    \n",
    "    # Weights for the matches (most recent match has the highest weight)\n",
    "    weights = [5, 4, 3, 2, 1]\n",
    "    \n",
    "    # Initialize sums and weighted sums\n",
    "    shots = []\n",
    "    shots_target = []\n",
    "    \n",
    "    # Determine which columns to use and collect the values\n",
    "    for match in past_matches.itertuples():\n",
    "        if match.Team_ID == team_id:\n",
    "            shots.append(getattr(match, 'HS'))  # Home shots\n",
    "            shots_target.append(getattr(match, 'HST'))  # Home shots on target\n",
    "        else:\n",
    "            shots.append(getattr(match, 'AS'))  # Away shots\n",
    "            shots_target.append(getattr(match, 'AST'))  # Away shots on target\n",
    "    \n",
    "    # Calculate the weighted averages of the values\n",
    "    weighted_shots = sum(s * w for s, w in zip(shots, weights))\n",
    "    weighted_shots_target = sum(st * w for st, w in zip(shots_target, weights))\n",
    "    total_weights = sum(weights[:len(shots)])  # Adjust total weight if there are less than 5 matches\n",
    "    \n",
    "    avg_shots = weighted_shots / total_weights if total_weights > 0 else 0\n",
    "    avg_shots_target = weighted_shots_target / total_weights if total_weights > 0 else 0\n",
    "\n",
    "    # Round the averages to 2 decimal places\n",
    "    avg_shots = round(avg_shots, 2)\n",
    "    avg_shots_target = round(avg_shots_target, 2)\n",
    "    \n",
    "    return avg_shots, avg_shots_target"
   ]
  },
  {
   "cell_type": "code",
   "execution_count": null,
   "metadata": {},
   "outputs": [],
   "source": [
    "# Apply the function and create new columns\n",
    "df['team_shots'], df['team_shots_target'] = zip(*df.apply(lambda x: rolling_avgs_combined(df, x, 'Team'), axis=1))\n",
    "df['opp_shots'], df['opp_shots_target'] = zip(*df.apply(lambda x: rolling_avgs_combined(df, x, 'Opp'), axis=1))"
   ]
  },
  {
   "cell_type": "code",
   "execution_count": null,
   "metadata": {},
   "outputs": [],
   "source": [
    "from datetime import timedelta\n",
    "\n",
    "def avg_games_played(df, row, team_column):\n",
    "    team = row[team_column]\n",
    "    # Ensure current_match_date is a Timestamp for comparison\n",
    "    current_match_date = pd.to_datetime(row['Date'], dayfirst=True)  # Assuming 'Date' format is 'dd/mm/yy'\n",
    "\n",
    "    delta = 50\n",
    "    start_date = current_match_date - timedelta(days=delta)\n",
    "\n",
    "    # Ensure 'Date' column is in datetime format for comparison\n",
    "    #df['Date_temp'] = pd.to_datetime(df['Date'], dayfirst=True)  # Convert 'Date' column to datetime if not already done\n",
    "\n",
    "    # Filter the DataFrame for matches within the last 30 days\n",
    "    if team_column == 'Team_ID':\n",
    "        past_matches = df[((df[team_column] == team) | (df['Opp_ID'] == team)) &\n",
    "                          (df['Date'] >= start_date) & (df['Date'] < current_match_date)]\n",
    "    else:\n",
    "        past_matches = df[((df['Team_ID'] == team) | (df[team_column] == team)) &\n",
    "                          (df['Date'] >= start_date) & (df['Date'] < current_match_date)]\n",
    "\n",
    "    # If no matches were played in the last 30 days\n",
    "    if past_matches.empty:\n",
    "        return 0\n",
    "\n",
    "    # Calculate weights based on the recency of each match\n",
    "    weights = (current_match_date - past_matches['Date']).dt.days\n",
    "    weighted_count = sum(delta - weights + 1)  # '+ 1' to include the match day in the weight\n",
    "\n",
    "    # Normalize weights to sum to 1 and calculate the weighted average\n",
    "    total_weight = sum(delta - weights + 1)\n",
    "    weighted_avg = weighted_count / total_weight\n",
    "\n",
    "    return weighted_avg\n"
   ]
  },
  {
   "cell_type": "code",
   "execution_count": null,
   "metadata": {},
   "outputs": [],
   "source": [
    "# Apply the function for each team and opponent\n",
    "df['team_avg_games'] = df.apply(lambda x: avg_games_played(df, x, 'Team_ID'), axis=1)\n",
    "df['opp_avg_games'] = df.apply(lambda x: avg_games_played(df, x, 'Opp_ID'), axis=1)"
   ]
  },
  {
   "cell_type": "code",
   "execution_count": null,
   "metadata": {},
   "outputs": [],
   "source": [
    "def avg_goals(df, row, team_column):\n",
    "    # Season and date of the current match\n",
    "    current_season = row['Season']\n",
    "    current_date = row['Date']\n",
    "\n",
    "    # Determine the columns for goals scored and conceded based on perspective\n",
    "    if team_column == 'Team_ID':\n",
    "        goals_scored_column = 'FTHG'  # Assuming FTHG is the column for home team goals\n",
    "        goals_conceded_column = 'FTAG'  # Assuming FTAG is the column for away team goals\n",
    "    else:\n",
    "        goals_scored_column = 'FTAG'  # Flip the columns if we are looking from the opponent's perspective\n",
    "        goals_conceded_column = 'FTHG'\n",
    "\n",
    "    # Filter matches from the same season and before the current date\n",
    "    past_matches = df[\n",
    "        (df['Season'] == current_season) & \n",
    "        (df['Date'] < current_date) & \n",
    "        ((df['Team_ID'] == row[team_column]) | (df['Opp_ID'] == row[team_column]))\n",
    "    ]\n",
    "\n",
    "    # Calculate the average goals scored and conceded\n",
    "    goals_scored = 0\n",
    "    goals_conceded = 0\n",
    "    total_matches = len(past_matches)\n",
    "\n",
    "    for match in past_matches.itertuples():\n",
    "        if getattr(match, 'Team_ID') == row[team_column]:  # Team is playing at home\n",
    "            goals_scored += getattr(match, goals_scored_column)\n",
    "            goals_conceded += getattr(match, goals_conceded_column)\n",
    "        else:  # Team is playing away\n",
    "            goals_scored += getattr(match, goals_scored_column)\n",
    "            goals_conceded += getattr(match, goals_conceded_column)\n",
    "\n",
    "    avg_goals_for = goals_scored / total_matches if total_matches > 0 else 0\n",
    "    avg_goals_against = goals_conceded / total_matches if total_matches > 0 else 0\n",
    "\n",
    "    # Round the averages to 3 decimal places\n",
    "    avg_goals_for = round(avg_goals_for, 2)\n",
    "    avg_goals_against = round(avg_goals_against, 2)\n",
    "\n",
    "    return avg_goals_for, avg_goals_against\n"
   ]
  },
  {
   "cell_type": "code",
   "execution_count": null,
   "metadata": {},
   "outputs": [],
   "source": [
    "# Apply the function and create new columns\n",
    "df['team_avg_goals_for'], df['team_avg_goals_against'] = zip(*df.apply(lambda x: avg_goals(df, x, 'Team_ID'), axis=1))\n",
    "df['opp_avg_goals_for'], df['opp_avg_goals_against'] = zip(*df.apply(lambda x: avg_goals(df, x, 'Opp_ID'), axis=1))"
   ]
  },
  {
   "cell_type": "code",
   "execution_count": null,
   "metadata": {},
   "outputs": [],
   "source": [
    "# Calculate means only for numeric columns\n",
    "numeric_cols = df.select_dtypes(include=[np.number]).columns\n",
    "means = df[numeric_cols].mean()\n",
    "\n",
    "# Fill missing values in numeric columns with their respective means\n",
    "df[numeric_cols] = df[numeric_cols].fillna(means)"
   ]
  },
  {
   "cell_type": "code",
   "execution_count": null,
   "metadata": {},
   "outputs": [],
   "source": [
    "# Set the FTR to 'X' where the value is currently NaN\n",
    "df['FTR'] = df['FTR'].fillna('X')"
   ]
  },
  {
   "cell_type": "code",
   "execution_count": null,
   "metadata": {},
   "outputs": [],
   "source": [
    "# Drop every row where 'FTR' is not 'H', 'D', or 'A', or 'X' (if future matches are included)\n",
    "df = df[df['FTR'].isin(['H', 'D', 'A', 'X'])]\n",
    "\n",
    "# Map 'H', 'D', and 'A' to 0, 1, and 2 respectively\n",
    "df['FTR'] = df['FTR'].map({'H': 0, 'D': 1, 'A': 2, 'X': -1}).astype(int)"
   ]
  },
  {
   "cell_type": "code",
   "execution_count": null,
   "metadata": {},
   "outputs": [],
   "source": [
    "df = df[[\n",
    "    \n",
    "        'Div', 'Season', 'Date_temp', 'Time', 'DayOTW', 'Team_ID', 'Opp_ID', 'Ref_ID', 'FTR',\n",
    "\n",
    "        'team_elo', 'opp_elo',\n",
    "        \n",
    "        'team_hist_vs', \n",
    "        'opp_hist_vs',\n",
    "\n",
    "        'team_points',\n",
    "        'opp_points',\n",
    "        \n",
    "        'team_form', \n",
    "        'opp_form',\n",
    "\n",
    "        'team_avg_goals_for', \n",
    "        'team_avg_goals_against',\n",
    "        'opp_avg_goals_for',\n",
    "        'opp_avg_goals_against',\n",
    "         \n",
    "        'team_shots', 'opp_shots',\n",
    "        'team_shots_target', 'opp_shots_target',\n",
    "\n",
    "        'team_avg_games', 'opp_avg_games',\n",
    "\n",
    "        'AvgH', 'AvgD', 'AvgA'\n",
    "         \n",
    "         \n",
    "         ]]"
   ]
  },
  {
   "cell_type": "code",
   "execution_count": null,
   "metadata": {},
   "outputs": [],
   "source": [
    "# Rename 'Date_temp' to 'Date'\n",
    "df.rename(columns={'Date_temp': 'Date'}, inplace=True)"
   ]
  },
  {
   "cell_type": "code",
   "execution_count": null,
   "metadata": {},
   "outputs": [],
   "source": [
    "# Save the df to a CSV file\n",
    "df.to_csv(f'data/processed/processed_data_{content}.csv', index=False)"
   ]
  },
  {
   "cell_type": "code",
   "execution_count": null,
   "metadata": {},
   "outputs": [],
   "source": [
    "import winsound\n",
    "frequency = 400  # Set Frequency To 2500 Hertz\n",
    "duration = 200  # Set Duration To 1000 ms == 1 second\n",
    "winsound.Beep(frequency, duration)"
   ]
  }
 ],
 "metadata": {
  "kernelspec": {
   "display_name": "Python 3",
   "language": "python",
   "name": "python3"
  },
  "language_info": {
   "codemirror_mode": {
    "name": "ipython",
    "version": 3
   },
   "file_extension": ".py",
   "mimetype": "text/x-python",
   "name": "python",
   "nbconvert_exporter": "python",
   "pygments_lexer": "ipython3",
   "version": "3.12.2"
  }
 },
 "nbformat": 4,
 "nbformat_minor": 2
}
