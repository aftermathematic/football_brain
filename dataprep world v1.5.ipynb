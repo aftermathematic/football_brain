{
 "cells": [
  {
   "cell_type": "code",
   "execution_count": 1110,
   "metadata": {},
   "outputs": [],
   "source": [
    "# Standard library imports\n",
    "import os\n",
    "import sys\n",
    "import re\n",
    "import warnings\n",
    "import random\n",
    "import hashlib\n",
    "\n",
    "# Data manipulation and analysis\n",
    "import numpy as np\n",
    "import pandas as pd\n",
    "\n",
    "# Visualization libraries\n",
    "import matplotlib.pyplot as plt\n",
    "import seaborn as sns\n",
    "\n",
    "# Machine learning and preprocessing\n",
    "from sklearn.metrics import confusion_matrix, classification_report, precision_score\n",
    "from sklearn.model_selection import RandomizedSearchCV, TimeSeriesSplit\n",
    "from sklearn.pipeline import Pipeline\n",
    "from sklearn.preprocessing import StandardScaler  # Assuming you might need it\n",
    "\n",
    "# Specific models and tools\n",
    "from xgboost import XGBClassifier\n",
    "import xgboost as xgb\n",
    "\n",
    "# Encoding and feature selection\n",
    "from category_encoders import TargetEncoder  # Fixed the import based on usage\n",
    "from scipy.stats import randint, uniform\n",
    "\n",
    "# Model persistence\n",
    "from joblib import dump, load\n",
    "\n",
    "# Miscellaneous settings\n",
    "%matplotlib inline\n",
    "warnings.filterwarnings('ignore')\n"
   ]
  },
  {
   "cell_type": "code",
   "execution_count": 1111,
   "metadata": {},
   "outputs": [],
   "source": [
    "countries = [\n",
    "\n",
    "    \"ARG\", \"AUT\", \"BRA\", \"CHN\",\n",
    "    \"DNK\", \"FIN\", \"IRL\", \"JPN\",\n",
    "    \"MEX\", \"NOR\", \"POL\", \"ROU\",\n",
    "    \"RUS\", \"SWE\", \"SWZ\", \"USA\",\n",
    "]\n",
    "\n",
    "fixtures = [\n",
    "    \"fixtures_world\",\n",
    "]\n"
   ]
  },
  {
   "cell_type": "code",
   "execution_count": 1112,
   "metadata": {},
   "outputs": [],
   "source": [
    "# Set the dataprep_start_date to the date the data preparation should start\n",
    "# If None, the data preparation will start from the beginning of the data\n",
    "\n",
    "# Make sure the file below already exists if you want to start from a specific date\n",
    "# file should be in the format \"processed_data_<content>.csv\"\n",
    "content = \"world_all\"\n",
    "\n",
    "dataprep_start_date = None\n",
    "#dataprep_start_date = pd.Timestamp(year=2024, month=4, day=23)"
   ]
  },
  {
   "cell_type": "code",
   "execution_count": 1113,
   "metadata": {},
   "outputs": [],
   "source": [
    "# Load all filepaths into a list\n",
    "matches_files = []\n",
    "fixtures_files = []"
   ]
  },
  {
   "cell_type": "code",
   "execution_count": 1114,
   "metadata": {},
   "outputs": [],
   "source": [
    "for fixture in fixtures:    \n",
    "    fixtures_files.append(f'data/fixtures/{fixture}.csv')\n",
    "    continue"
   ]
  },
  {
   "cell_type": "code",
   "execution_count": 1115,
   "metadata": {},
   "outputs": [],
   "source": [
    "for country in countries:\n",
    "    matches_files.append('data/cleaned/%s.csv' % (country))\n",
    "    continue"
   ]
  },
  {
   "cell_type": "code",
   "execution_count": 1116,
   "metadata": {},
   "outputs": [],
   "source": [
    "def load_data(files):\n",
    "    df = pd.DataFrame()\n",
    "\n",
    "    for file in files:\n",
    "        try:\n",
    "            print(f'Loading {file}')\n",
    "\n",
    "            # Try to read with default utf-8 encoding\n",
    "            try:\n",
    "                df_temp = pd.read_csv(file, encoding='utf-8')\n",
    "            except UnicodeDecodeError:\n",
    "                # If utf-8 decoding fails, try reading with ISO-8859-1\n",
    "                df_temp = pd.read_csv(file, encoding='ISO-8859-1')\n",
    "\n",
    "            #df_temp['Season'] = year\n",
    "            df = pd.concat([df, df_temp], ignore_index=True)\n",
    "        except FileNotFoundError:\n",
    "            print(f'Error: {file} not found')\n",
    "        except Exception as e:\n",
    "            print(f\"An error occurred while loading {file}: {e}\")\n",
    "\n",
    "    return df\n"
   ]
  },
  {
   "cell_type": "code",
   "execution_count": 1117,
   "metadata": {},
   "outputs": [
    {
     "name": "stdout",
     "output_type": "stream",
     "text": [
      "Loading data/cleaned/ARG.csv\n",
      "Loading data/cleaned/AUT.csv\n",
      "Loading data/cleaned/BRA.csv\n",
      "Loading data/cleaned/CHN.csv\n",
      "Loading data/cleaned/DNK.csv\n",
      "Loading data/cleaned/FIN.csv\n",
      "Loading data/cleaned/IRL.csv\n",
      "Loading data/cleaned/JPN.csv\n",
      "Loading data/cleaned/MEX.csv\n",
      "Loading data/cleaned/NOR.csv\n",
      "Loading data/cleaned/POL.csv\n",
      "Loading data/cleaned/ROU.csv\n",
      "Loading data/cleaned/RUS.csv\n",
      "Loading data/cleaned/SWE.csv\n",
      "Loading data/cleaned/SWZ.csv\n",
      "Loading data/cleaned/USA.csv\n",
      "Loading data/fixtures/fixtures_world.csv\n"
     ]
    }
   ],
   "source": [
    "# Load data into DataFrames\n",
    "df = load_data(matches_files)\n",
    "df_fixtures = load_data(fixtures_files)"
   ]
  },
  {
   "cell_type": "code",
   "execution_count": 1118,
   "metadata": {},
   "outputs": [
    {
     "data": {
      "text/plain": [
       "(48003, 120)"
      ]
     },
     "execution_count": 1118,
     "metadata": {},
     "output_type": "execute_result"
    }
   ],
   "source": [
    "len(df), len(df_fixtures)"
   ]
  },
  {
   "cell_type": "code",
   "execution_count": 1119,
   "metadata": {},
   "outputs": [
    {
     "data": {
      "text/plain": [
       "Div\n",
       "JPN    18\n",
       "USA    14\n",
       "BRA     9\n",
       "POL     9\n",
       "CHN     8\n",
       "NOR     8\n",
       "ROU     8\n",
       "RUS     8\n",
       "SWE     8\n",
       "AUT     6\n",
       "DNK     6\n",
       "FIN     6\n",
       "SWZ     6\n",
       "IRL     5\n",
       "ARG     1\n",
       "Name: count, dtype: int64"
      ]
     },
     "execution_count": 1119,
     "metadata": {},
     "output_type": "execute_result"
    }
   ],
   "source": [
    "df_fixtures['Div'].value_counts()"
   ]
  },
  {
   "cell_type": "code",
   "execution_count": 1120,
   "metadata": {},
   "outputs": [
    {
     "data": {
      "text/plain": [
       "(48003, 120)"
      ]
     },
     "execution_count": 1120,
     "metadata": {},
     "output_type": "execute_result"
    }
   ],
   "source": [
    "len(df), len(df_fixtures)"
   ]
  },
  {
   "cell_type": "code",
   "execution_count": 1122,
   "metadata": {},
   "outputs": [],
   "source": [
    "if len(df_fixtures) > 0:\n",
    "    df_fixtures['Date_temp'] = pd.to_datetime(df_fixtures['Date'], format='%d/%m/%Y')\n",
    "\n",
    "    df_fixtures['Date_temp'] = df_fixtures['Date_temp'].apply(\n",
    "        lambda x: int(x.strftime('%Y%m%d')) if pd.notnull(x) else 19000101)\n",
    "\n",
    "    df['Date_fixt'] = pd.to_datetime(df['Date'], format='%d/%m/%Y').apply(\n",
    "        lambda x: int(x.strftime('%Y%m%d')) if pd.notnull(x) else 19000101)\n",
    "\n",
    "    df_fixtures['FTR'].fillna('X', inplace=True)\n",
    "    fixture_cutoff = df_fixtures['Date_temp'].min()\n",
    "\n",
    "    df = df[df['Date_fixt'] < fixture_cutoff]\n",
    "\n",
    "    df = pd.concat([df, df_fixtures], ignore_index=True)\n",
    "\n",
    "    # Drop df Date_fixt column\n",
    "    df.drop(columns=['Date_fixt'], inplace=True)"
   ]
  },
  {
   "cell_type": "code",
   "execution_count": 1125,
   "metadata": {},
   "outputs": [],
   "source": [
    "# Remove all the rows in the dataframe where the 'Div' is not in the list of countries\n",
    "df = df[df['Div'].isin(countries)]"
   ]
  },
  {
   "cell_type": "code",
   "execution_count": 1127,
   "metadata": {},
   "outputs": [
    {
     "name": "stdout",
     "output_type": "stream",
     "text": [
      "max index: 15\n"
     ]
    }
   ],
   "source": [
    "# Create a dictionary for all competitions\n",
    "\n",
    "file_path = f\"data/comps_dict_{content}.txt\"\n",
    "\n",
    "# Check if the file exists\n",
    "if os.path.exists(file_path):\n",
    "    # Load the dictionary from the file\n",
    "    with open(file_path, 'r') as file:\n",
    "        comps_dict = eval(file.read())  # Using eval to convert string back to dictionary\n",
    "    # Find the maximum index currently in the dictionary\n",
    "    max_index = max(comps_dict.values())\n",
    "\n",
    "    print(f\"max index: {max_index}\")\n",
    "else:\n",
    "    comps_dict = {}\n",
    "    max_index = -1  \n",
    "\n",
    "# Get all unique divisions from DataFrame\n",
    "all_comps = df['Div'].dropna().unique()\n",
    "all_comps.sort()\n",
    "\n",
    "# Create a dictionary of new divisions alone\n",
    "new_comps = {div: index for index, div in enumerate(all_comps, start=max_index + 1) if div not in comps_dict}\n",
    "\n",
    "# Update dictionary only with new divisions\n",
    "comps_dict.update(new_comps)\n",
    "\n",
    "# Save the updated dictionary to a file\n",
    "with open(file_path, 'w') as file:\n",
    "    file.write(str(comps_dict))\n",
    "\n",
    "# Add division ID column to DataFrame\n",
    "df['Div'] = df['Div'].map(comps_dict)"
   ]
  },
  {
   "cell_type": "code",
   "execution_count": 1128,
   "metadata": {},
   "outputs": [
    {
     "name": "stdout",
     "output_type": "stream",
     "text": [
      "max index: 480\n"
     ]
    }
   ],
   "source": [
    "# Create a dictionary for all teams\n",
    "\n",
    "file_path = f\"data/teams_dict_{content}.txt\"\n",
    "\n",
    "# Check if the file exists\n",
    "if os.path.exists(file_path):\n",
    "    # Load the dictionary from the file\n",
    "    with open(file_path, 'r') as file:\n",
    "        teams_dict = eval(file.read())  \n",
    "    max_index = max(teams_dict.values())\n",
    "\n",
    "    print(f\"max index: {max_index}\")\n",
    "else:\n",
    "    teams_dict = {}\n",
    "    max_index = -1 \n",
    "\n",
    "# Get all teams from DataFrame\n",
    "all_teams = pd.concat([df['HomeTeam'], df['AwayTeam']]).dropna().unique()\n",
    "all_teams.sort()\n",
    "\n",
    "# Create a dictionary of new teams alone\n",
    "new_teams = {team: index for index, team in enumerate(all_teams) if team not in teams_dict}\n",
    "\n",
    "# Update dictionary only with new teams, starting indices from max_index + 1\n",
    "start_index = max_index + 1\n",
    "teams_dict.update({team: index + start_index for index, team in enumerate(new_teams) if team not in teams_dict})\n",
    "\n",
    "# Save the updated dictionary to a file\n",
    "with open(file_path, 'w') as file:\n",
    "    file.write(str(teams_dict))\n",
    "\n",
    "# Add team ID columns to DataFrame\n",
    "df['Team_ID'] = df['HomeTeam'].map(teams_dict)\n",
    "df['Opp_ID'] = df['AwayTeam'].map(teams_dict)"
   ]
  },
  {
   "cell_type": "code",
   "execution_count": 1129,
   "metadata": {},
   "outputs": [],
   "source": [
    "def clean_duplicates(df):\n",
    "    # Sort the DataFrame so that rows with 'FTR' == -1 come first\n",
    "    df.sort_values(by=['Date', 'Team_ID', 'Opp_ID', 'FTR'], ascending=[True, True, True, False], inplace=True)\n",
    "    \n",
    "    # Drop duplicates based on 'Date', 'Team_ID', and 'Opp_ID' keeping the first occurrence (where 'FTR' is -1)\n",
    "    df = df.drop_duplicates(subset=['Date', 'Team_ID', 'Opp_ID'], keep='first')\n",
    "    \n",
    "    return df"
   ]
  },
  {
   "cell_type": "code",
   "execution_count": 1130,
   "metadata": {},
   "outputs": [],
   "source": [
    "df = clean_duplicates(df)"
   ]
  },
  {
   "cell_type": "code",
   "execution_count": 1132,
   "metadata": {},
   "outputs": [
    {
     "data": {
      "text/plain": [
       "(48123, 15)"
      ]
     },
     "execution_count": 1132,
     "metadata": {},
     "output_type": "execute_result"
    }
   ],
   "source": [
    "df.shape"
   ]
  },
  {
   "cell_type": "markdown",
   "metadata": {},
   "source": [
    "### Feature Engineering"
   ]
  },
  {
   "cell_type": "code",
   "execution_count": 1133,
   "metadata": {},
   "outputs": [],
   "source": [
    "# Calculate ELO ratings for each team\n",
    "\n",
    "# Initialize ratings dictionary\n",
    "teams = pd.concat([df['Team_ID'], df['Opp_ID']]).unique()\n",
    "ratings = {team: 1500 for team in teams}\n",
    "\n",
    "def calculate_expected_score(rating_a, rating_b):\n",
    "    return 1 / (1 + 10 ** ((rating_b - rating_a) / 400))\n",
    "\n",
    "def update_elo(rating, actual_score, expected_score, k=30):\n",
    "\n",
    "    rating = rating + k * (actual_score - expected_score)\n",
    "\n",
    "    # Parse the rating as an integer with no decimal points\n",
    "    return int(rating)\n",
    "\n",
    "# Iterate over the DataFrame and update ELO ratings after each match\n",
    "elo_team = []\n",
    "elo_opp = []\n",
    "\n",
    "for index, row in df.iterrows():\n",
    "    home_team, away_team, home_score, away_score = row['Team_ID'], row['Opp_ID'], row['FTHG'], row['FTAG']\n",
    "    home_rating = ratings[home_team]\n",
    "    away_rating = ratings[away_team]\n",
    "    \n",
    "    # Calculate expected scores\n",
    "    expected_home = calculate_expected_score(home_rating, away_rating)\n",
    "    expected_away = calculate_expected_score(away_rating, home_rating)\n",
    "    \n",
    "    # Calculate actual scores\n",
    "    actual_home = 1 if home_score > away_score else 0.5 if home_score == away_score else 0\n",
    "    actual_away = 1 - actual_home\n",
    "    \n",
    "    # Update ratings\n",
    "    new_home_rating = update_elo(home_rating, actual_home, expected_home)\n",
    "    new_away_rating = update_elo(away_rating, actual_away, expected_away)\n",
    "    \n",
    "    # Store updated ratings in the ratings dictionary\n",
    "    ratings[home_team] = new_home_rating\n",
    "    ratings[away_team] = new_away_rating\n",
    "    \n",
    "    # Append current ratings to list\n",
    "    elo_team.append(new_home_rating)\n",
    "    elo_opp.append(new_away_rating)\n"
   ]
  },
  {
   "cell_type": "code",
   "execution_count": 1134,
   "metadata": {},
   "outputs": [],
   "source": [
    "# Assign new ELO ratings to the DataFrame\n",
    "df['team_elo'] = elo_team\n",
    "df['opp_elo'] = elo_opp"
   ]
  },
  {
   "cell_type": "code",
   "execution_count": 1135,
   "metadata": {},
   "outputs": [],
   "source": [
    "def parse_date_to_int(date_str):\n",
    "\n",
    "    # Convert date_str to string if it is not already\n",
    "    date_str = str(date_str)\n",
    "\n",
    "    # Split the date_str by the \"/\" character into day, month, year\n",
    "    components = date_str.split('/')\n",
    "    \n",
    "    # If split was successful but not in expected format, try splitting by absence of separator for '%d%m%Y' or '%d%m%y'\n",
    "    if len(components) == 1:\n",
    "        if len(date_str) in [6, 8]:  # Length 6 for '%d%m%y', 8 for '%d%m%Y'\n",
    "            day, month = int(date_str[:2]), int(date_str[2:4])\n",
    "            year = int(date_str[4:])\n",
    "        else:\n",
    "            return 19000101  # Return default if format does not match expected\n",
    "    else:\n",
    "\n",
    "        day = int(components[0])\n",
    "        month = int(components[1])\n",
    "        year = int(components[2])\n",
    "    \n",
    "    # Adjust the year if it was only 2 characters long\n",
    "    if year < 100:\n",
    "        year += 2000\n",
    "    \n",
    "    # Create a date variable by using the day, month, year integers\n",
    "    # Note: Direct creation of date variable skipped to avoid unnecessary complexity,\n",
    "    # directly formatting to YYYYMMDD integer format instead.\n",
    "    date_int = int(f\"{year:04d}{month:02d}{day:02d}\")\n",
    "    \n",
    "    return date_int"
   ]
  },
  {
   "cell_type": "code",
   "execution_count": 1136,
   "metadata": {},
   "outputs": [],
   "source": [
    "df['Date'] = pd.to_datetime(df['Date'], format='%d/%m/%Y')\n",
    "\n",
    "# Apply the modified function\n",
    "df['Date_temp'] = df['Date'].apply(lambda x: parse_date_to_int(x.strftime('%d/%m/%Y')) if pd.notnull(x) else 19000101)\n",
    "\n",
    "# Day of the week as an integer\n",
    "df['DayOTW'] = df['Date'].dt.dayofweek\n",
    "\n",
    "df['Time'] = df['Time'].fillna('00:00').str.replace(':', '').astype(int)\n",
    "\n",
    "# Only keep the first 2 digits of the Time column, no decimals\n",
    "df['Time'] = df['Time'] // 100\n",
    "\n",
    "# Sort df by Date_temp and Time\n",
    "df = df.sort_values(['Date_temp', 'Time'])"
   ]
  },
  {
   "cell_type": "code",
   "execution_count": 1137,
   "metadata": {},
   "outputs": [],
   "source": [
    "df.columns = [re.sub(r'[<]', '_st_', str(col)) for col in df.columns]\n",
    "df.columns = [re.sub(r'[>]', '_gt_', str(col)) for col in df.columns]"
   ]
  },
  {
   "cell_type": "code",
   "execution_count": 1138,
   "metadata": {},
   "outputs": [],
   "source": [
    "def points(df, row, team_column, last_n_matches=None):\n",
    "    # Season and date of the current match\n",
    "    current_season = row['Season']\n",
    "    current_date = row['Date']\n",
    "\n",
    "    # Define the opponent column based on the team column\n",
    "    opponent_column = 'Opp_ID' if team_column == 'Team_ID' else 'Team_ID'\n",
    "\n",
    "    # Filter DataFrame for matches from the same season before the current date\n",
    "    past_matches = df[\n",
    "        (df['Season'] == current_season) & \n",
    "        (df['Date'] < current_date) &\n",
    "        ((df[team_column] == row[team_column]) | (df[opponent_column] == row[team_column]))\n",
    "    ].copy()\n",
    "\n",
    "    # If last_n_matches is set, filter to the last n matches\n",
    "    if last_n_matches is not None:\n",
    "        past_matches = past_matches.tail(last_n_matches)\n",
    "\n",
    "    # Initialize total points\n",
    "    total_points = 0\n",
    "\n",
    "    # Calculate points for each past match\n",
    "    for match in past_matches.itertuples():\n",
    "        if getattr(match, 'Team_ID') == row[team_column]:\n",
    "            if getattr(match, 'FTR') == 'H':\n",
    "                total_points += 3  # Home win\n",
    "            elif getattr(match, 'FTR') == 'D':\n",
    "                total_points += 1  # Draw\n",
    "        elif getattr(match, 'Opp_ID') == row[team_column]:\n",
    "            if getattr(match, 'FTR') == 'A':\n",
    "                total_points += 3  # Away win\n",
    "            elif getattr(match, 'FTR') == 'D':\n",
    "                total_points += 1  # Draw\n",
    "\n",
    "    # Calculate average points\n",
    "    matches_played = len(past_matches)\n",
    "    avg_points = total_points / matches_played if matches_played > 0 else 0\n",
    "\n",
    "    # Return average points rounded to 3 decimal places\n",
    "    return round(avg_points, 3)"
   ]
  },
  {
   "cell_type": "code",
   "execution_count": 1139,
   "metadata": {},
   "outputs": [],
   "source": [
    "df['team_points'] = df.apply(lambda x: points(df, x, 'Team_ID') \n",
    "    if dataprep_start_date is None or x['Date'] >= dataprep_start_date else None, axis=1)\n",
    "df['opp_points'] = df.apply(lambda x: points(df, x, 'Opp_ID') \n",
    "    if dataprep_start_date is None or x['Date'] >= dataprep_start_date else None, axis=1)\n",
    "\n",
    "df['team_form'] = df.apply(lambda x: points(df, x, 'Team_ID', last_n_matches=5) \n",
    "    if dataprep_start_date is None or x['Date'] >= dataprep_start_date else None, axis=1)\n",
    "df['opp_form'] = df.apply(lambda x: points(df, x, 'Opp_ID', last_n_matches=5) \n",
    "    if dataprep_start_date is None or x['Date'] >= dataprep_start_date else None, axis=1)"
   ]
  },
  {
   "cell_type": "code",
   "execution_count": 1140,
   "metadata": {},
   "outputs": [],
   "source": [
    "def history_vs_opponent_weighted(df, row, team_column):\n",
    "    # Determine opponent column based on team column\n",
    "    opponent_column = 'Team_ID' if team_column == 'Opp_ID' else 'Opp_ID'\n",
    "\n",
    "    # Combine year, month, and day into an integer 'Date_temp'\n",
    "    row_date_temp = row['Date'].year * 10000 + row['Date'].month * 100 + row['Date'].day\n",
    "\n",
    "    # Filter for matches between specified teams, excluding current match\n",
    "    mask = (\n",
    "        ((df[team_column] == row[team_column]) & (df[opponent_column] == row[opponent_column])) |\n",
    "        ((df[team_column] == row[opponent_column]) & (df[opponent_column] == row[team_column]))\n",
    "    ) & (df['Date_temp'] < row_date_temp)\n",
    "\n",
    "    filtered_matches = df[mask]\n",
    "    \n",
    "    if filtered_matches.empty:\n",
    "        return 0  # Return early if no matches found\n",
    "\n",
    "    # Sort by date and select top 5 recent matches\n",
    "    recent_matches = filtered_matches.sort_values(by='Date', ascending=False).head(5)\n",
    "    weights = list(range(len(recent_matches), 0, -1))  # Descending weights\n",
    "\n",
    "    # Calculate weighted score based on match results\n",
    "    weighted_score = sum(\n",
    "        (3 * weight if match.FTR == 'H' and match.__getattribute__(team_column) == match.Team_ID or\n",
    "                      match.FTR == 'A' and match.__getattribute__(team_column) != match.Team_ID else\n",
    "         1 * weight if match.FTR == 'D' else 0)\n",
    "        for match, weight in zip(recent_matches.itertuples(), weights)\n",
    "    )\n",
    "\n",
    "    # Normalize the weighted score by the sum of weights\n",
    "    return round(weighted_score / sum(weights), 3) if weights else 0"
   ]
  },
  {
   "cell_type": "code",
   "execution_count": 1141,
   "metadata": {},
   "outputs": [],
   "source": [
    "df['team_hist_vs'] = df.apply(lambda x: history_vs_opponent_weighted(df, x, 'Team_ID') \n",
    "    if dataprep_start_date is None or x['Date'] >= dataprep_start_date else None, axis=1)\n",
    "df['opp_hist_vs'] = df.apply(lambda x: history_vs_opponent_weighted(df, x, 'Opp_ID') \n",
    "    if dataprep_start_date is None or x['Date'] >= dataprep_start_date else None, axis=1)"
   ]
  },
  {
   "cell_type": "code",
   "execution_count": 1142,
   "metadata": {},
   "outputs": [],
   "source": [
    "def avg_goals(df, row, team_column):\n",
    "    # Season and date of the current match\n",
    "    current_season = row['Season']\n",
    "    current_date = row['Date']\n",
    "\n",
    "    # Determine the columns for goals scored and conceded based on perspective\n",
    "    if team_column == 'Team_ID':\n",
    "        goals_scored_column = 'FTHG'  # Assuming FTHG is the column for home team goals\n",
    "        goals_conceded_column = 'FTAG'  # Assuming FTAG is the column for away team goals\n",
    "    else:\n",
    "        goals_scored_column = 'FTAG'  # Flip the columns if we are looking from the opponent's perspective\n",
    "        goals_conceded_column = 'FTHG'\n",
    "\n",
    "    # Filter matches from the same season and before the current date\n",
    "    past_matches = df[\n",
    "        (df['Season'] == current_season) & \n",
    "        (df['Date'] < current_date) & \n",
    "        ((df['Team_ID'] == row[team_column]) | (df['Opp_ID'] == row[team_column]))\n",
    "    ]\n",
    "\n",
    "    # Calculate the average goals scored and conceded\n",
    "    goals_scored = 0\n",
    "    goals_conceded = 0\n",
    "    total_matches = len(past_matches)\n",
    "\n",
    "    for match in past_matches.itertuples():\n",
    "        if getattr(match, 'Team_ID') == row[team_column]: \n",
    "            goals_scored += getattr(match, goals_scored_column)\n",
    "            goals_conceded += getattr(match, goals_conceded_column)\n",
    "        else:  # Team is playing away\n",
    "            goals_scored += getattr(match, goals_scored_column)\n",
    "            goals_conceded += getattr(match, goals_conceded_column)\n",
    "\n",
    "    avg_goals_for = goals_scored / total_matches if total_matches > 0 else 0\n",
    "    avg_goals_against = goals_conceded / total_matches if total_matches > 0 else 0\n",
    "\n",
    "    avg_goals_for = round(avg_goals_for, 2)\n",
    "    avg_goals_against = round(avg_goals_against, 2)\n",
    "\n",
    "    return avg_goals_for, avg_goals_against"
   ]
  },
  {
   "cell_type": "code",
   "execution_count": 1143,
   "metadata": {},
   "outputs": [],
   "source": [
    "# Apply the function and create new columns\n",
    "df['team_avg_goals_for'], df['team_avg_goals_against'] = zip(*df.apply(lambda x: avg_goals(df, x, 'Team_ID') \n",
    "    if dataprep_start_date is None or x['Date'] >= dataprep_start_date else (0, 0), axis=1))\n",
    "df['opp_avg_goals_for'], df['opp_avg_goals_against'] = zip(*df.apply(lambda x: avg_goals(df, x, 'Opp_ID') \n",
    "    if dataprep_start_date is None or x['Date'] >= dataprep_start_date else (0, 0), axis=1))"
   ]
  },
  {
   "cell_type": "code",
   "execution_count": 1144,
   "metadata": {},
   "outputs": [],
   "source": [
    "# Calculate means only for numeric columns\n",
    "numeric_cols = df.select_dtypes(include=[np.number]).columns\n",
    "means = df[numeric_cols].mean()\n",
    "\n",
    "# Fill missing values in numeric columns with their respective means\n",
    "df[numeric_cols] = df[numeric_cols].fillna(means)"
   ]
  },
  {
   "cell_type": "code",
   "execution_count": 1145,
   "metadata": {},
   "outputs": [],
   "source": [
    "# Set the FTR to 'X' where the value is currently NaN\n",
    "df['FTR'] = df['FTR'].fillna('X')"
   ]
  },
  {
   "cell_type": "code",
   "execution_count": 1146,
   "metadata": {},
   "outputs": [],
   "source": [
    "# Drop every row where 'FTR' is not 'H', 'D', or 'A', or 'X' (if future matches are included)\n",
    "df = df[df['FTR'].isin(['H', 'D', 'A', 'X'])]\n",
    "\n",
    "# Map 'H', 'D', and 'A' to 0, 1, and 2 respectively\n",
    "df['FTR'] = df['FTR'].map({'H': 0, 'D': 1, 'A': 2, 'X': -1}).astype(int)"
   ]
  },
  {
   "cell_type": "code",
   "execution_count": 1147,
   "metadata": {},
   "outputs": [
    {
     "data": {
      "text/plain": [
       "(48123, 28)"
      ]
     },
     "execution_count": 1147,
     "metadata": {},
     "output_type": "execute_result"
    }
   ],
   "source": [
    "df.shape"
   ]
  },
  {
   "cell_type": "code",
   "execution_count": 1148,
   "metadata": {},
   "outputs": [],
   "source": [
    "df = df[[\n",
    "    \n",
    "        'Div', 'Season', 'Date_temp', 'Time', 'DayOTW', 'Team_ID', 'Opp_ID', 'FTR',\n",
    "\n",
    "        'team_elo', 'opp_elo',\n",
    "        \n",
    "        'team_hist_vs', \n",
    "        'opp_hist_vs',\n",
    "\n",
    "        'team_points',\n",
    "        'opp_points',\n",
    "        \n",
    "        'team_form', \n",
    "        'opp_form',\n",
    "\n",
    "        'team_avg_goals_for', \n",
    "        'team_avg_goals_against',\n",
    "        'opp_avg_goals_for',\n",
    "        'opp_avg_goals_against',\n",
    "\n",
    "        'AvgH', 'AvgD', 'AvgA'         \n",
    "         \n",
    "]]"
   ]
  },
  {
   "cell_type": "code",
   "execution_count": 1149,
   "metadata": {},
   "outputs": [
    {
     "name": "stdout",
     "output_type": "stream",
     "text": [
      "Date_temp\n",
      "20240505    58\n",
      "20240504    23\n",
      "20240503    21\n",
      "20240506    18\n",
      "20161211     1\n",
      "Name: count, dtype: int64\n"
     ]
    }
   ],
   "source": [
    "# Print the value counts of the Date_temp column where FTR is -1\n",
    "print(df[df['FTR'] == -1]['Date_temp'].value_counts())"
   ]
  },
  {
   "cell_type": "code",
   "execution_count": 1150,
   "metadata": {},
   "outputs": [
    {
     "data": {
      "text/plain": [
       "(48123, 120)"
      ]
     },
     "execution_count": 1150,
     "metadata": {},
     "output_type": "execute_result"
    }
   ],
   "source": [
    "len(df), len(df_fixtures)"
   ]
  },
  {
   "cell_type": "code",
   "execution_count": 1151,
   "metadata": {},
   "outputs": [],
   "source": [
    "# Rename 'Date_temp' to 'Date'\n",
    "df.rename(columns={'Date_temp': 'Date'}, inplace=True)"
   ]
  },
  {
   "cell_type": "code",
   "execution_count": 1152,
   "metadata": {},
   "outputs": [],
   "source": [
    "# Drop duplicate rows based on 'Date', 'Team_ID', and 'Opp_ID'\n",
    "df = df.drop_duplicates(subset=['Date', 'Team_ID', 'Opp_ID'], keep='first')"
   ]
  },
  {
   "cell_type": "code",
   "execution_count": 1153,
   "metadata": {},
   "outputs": [
    {
     "name": "stdout",
     "output_type": "stream",
     "text": [
      "Data saved: 48123 matches\n"
     ]
    }
   ],
   "source": [
    "import pandas as pd\n",
    "\n",
    "try:\n",
    "   \n",
    "    if dataprep_start_date is not None:\n",
    "        # Convert date columns to datetime\n",
    "        df['Date_temp'] = pd.to_datetime(df['Date'], format='%Y%m%d')\n",
    "        \n",
    "        # Filter new data based on start date\n",
    "        df_new = df[df['Date_temp'] >= dataprep_start_date].copy()\n",
    "\n",
    "        # Load existing data\n",
    "        df_existing = pd.read_csv(f'data/processed/processed_data_{content}.csv')\n",
    "\n",
    "        df_existing['Date_temp'] = pd.to_datetime(df_existing['Date'])\n",
    "        \n",
    "        # Filter existing data to remove overlap with new data\n",
    "        df_existing = df_existing[df_existing['Date_temp'] < dataprep_start_date]\n",
    "\n",
    "        # Combine and sort data\n",
    "        df_final = pd.concat([df_existing, df_new], ignore_index=True)\n",
    "        df_final.sort_values(['Date_temp', 'Time'], inplace=True)\n",
    "\n",
    "        # Clean up temporary columns\n",
    "        df_final.drop(columns='Date_temp', inplace=True)\n",
    "    else:\n",
    "        df_final = df.copy()\n",
    "\n",
    "    # Save the final DataFrame\n",
    "    df_final.to_csv(f'data/processed/processed_data_{content}.csv', index=False)\n",
    "    print(f\"Data saved: {df_final.shape[0]} matches\")\n",
    "\n",
    "except Exception as e:\n",
    "    print(f\"Error: {e}\")\n"
   ]
  },
  {
   "cell_type": "code",
   "execution_count": 1154,
   "metadata": {},
   "outputs": [],
   "source": [
    "import winsound\n",
    "frequency = 400  # Set Frequency To 2500 Hertz\n",
    "duration = 200  # Set Duration To 1000 ms == 1 second\n",
    "winsound.Beep(frequency, duration)"
   ]
  }
 ],
 "metadata": {
  "kernelspec": {
   "display_name": "Python 3",
   "language": "python",
   "name": "python3"
  },
  "language_info": {
   "codemirror_mode": {
    "name": "ipython",
    "version": 3
   },
   "file_extension": ".py",
   "mimetype": "text/x-python",
   "name": "python",
   "nbconvert_exporter": "python",
   "pygments_lexer": "ipython3",
   "version": "3.12.2"
  }
 },
 "nbformat": 4,
 "nbformat_minor": 2
}
