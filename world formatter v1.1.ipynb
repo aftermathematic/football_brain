{
 "cells": [
  {
   "cell_type": "code",
   "execution_count": 148,
   "metadata": {},
   "outputs": [],
   "source": [
    "import pandas as pd\n",
    "import re"
   ]
  },
  {
   "cell_type": "code",
   "execution_count": 149,
   "metadata": {},
   "outputs": [],
   "source": [
    "countries = [\n",
    "    \"ARG\", \"AUT\", \"BRA\", \"CHN\",\n",
    "    \"DNK\", \"FIN\", \"IRL\", \"JPN\",\n",
    "    \"MEX\", \"NOR\", \"POL\", \"ROU\",\n",
    "    \"RUS\", \"SWE\", \"SWZ\", \"USA\",\n",
    "]\n",
    "\n",
    "matches_files = []"
   ]
  },
  {
   "cell_type": "code",
   "execution_count": 150,
   "metadata": {},
   "outputs": [],
   "source": [
    "for country in countries:    \n",
    "    matches_files.append('data/scraped/other/%s.csv' % (country))\n",
    "    continue"
   ]
  },
  {
   "cell_type": "code",
   "execution_count": 151,
   "metadata": {},
   "outputs": [],
   "source": [
    "def format_season(season):\n",
    "    # Check if the season contains a '/'\n",
    "    if '/' in season:\n",
    "        # Split the string on '/' and take the last two digits of each year\n",
    "        parts = season.split('/')\n",
    "        new_season = parts[0][-2:] + parts[1][-2:]\n",
    "    else:\n",
    "        # If it's just a single year, use the string as is\n",
    "        new_season = season\n",
    "\n",
    "    return new_season"
   ]
  },
  {
   "cell_type": "code",
   "execution_count": 152,
   "metadata": {},
   "outputs": [],
   "source": [
    "def load_data(files):\n",
    "    df = pd.DataFrame()\n",
    "\n",
    "    for file in files:\n",
    "        try:\n",
    "            # Try to read with default utf-8 encoding\n",
    "            try:\n",
    "                df_temp = pd.read_csv(file, encoding='utf-8')\n",
    "            except UnicodeDecodeError:\n",
    "                # If utf-8 decoding fails, try reading with ISO-8859-1\n",
    "                df_temp = pd.read_csv(file, encoding='ISO-8859-1')\n",
    "\n",
    "            # Extract the country name from the file path\n",
    "            div = file.split('/')[-1].split('.')[0]\n",
    "            df_temp['Div'] = div\n",
    "\n",
    "            # Check if 'Season' column exists and convert it\n",
    "            if 'Season' in df_temp.columns:\n",
    "                df_temp['Season'] = df_temp['Season'].astype(str).apply(format_season)\n",
    "            else:\n",
    "                print(f\"No 'Season' column in {file}\")\n",
    "\n",
    "            df = pd.concat([df, df_temp], ignore_index=True)\n",
    "        except FileNotFoundError:\n",
    "            print(f'Error: {file} not found')\n",
    "        except Exception as e:\n",
    "            print(f\"An error occurred while loading {file}: {e}\")\n",
    "\n",
    "    return df\n"
   ]
  },
  {
   "cell_type": "code",
   "execution_count": 153,
   "metadata": {},
   "outputs": [],
   "source": [
    "# Load data into DataFrames\n",
    "df = load_data(matches_files)"
   ]
  },
  {
   "cell_type": "code",
   "execution_count": 154,
   "metadata": {},
   "outputs": [],
   "source": [
    "# Rename the necessary columns as per the mapping\n",
    "df.rename(columns={\n",
    "    'Home': 'HomeTeam',\n",
    "    'Away': 'AwayTeam',\n",
    "    'HG': 'FTHG',\n",
    "    'AG': 'FTAG',\n",
    "    'Res': 'FTR',\n",
    "    'AvgH': 'AvgH',\n",
    "    'AvgD': 'AvgD',\n",
    "    'AvgA': 'AvgA'\n",
    "}, inplace=True)\n",
    "\n",
    "# Convert 'Date' from string to datetime\n",
    "df['Date'] = pd.to_datetime(df['Date'], format='%d/%m/%Y')\n",
    "\n",
    "# Convert 'Date' to a String in the format 'DD/MM/YYYY'\n",
    "df['Date'] = df['Date'].dt.strftime('%d/%m/%Y')\n",
    "\n",
    "# Drop the columns that are not needed\n",
    "df.drop(columns=['Country', 'League', 'PH', 'PD', 'PA', 'MaxH', 'MaxD', 'MaxA'], inplace=True)\n",
    "\n",
    "# Change the order of the columns\n",
    "df = df[['Div', 'Date', 'Time', 'HomeTeam', 'AwayTeam', 'FTHG', 'FTAG', 'FTR', 'AvgH', 'AvgD', 'AvgA']]"
   ]
  },
  {
   "cell_type": "code",
   "execution_count": 155,
   "metadata": {},
   "outputs": [
    {
     "name": "stdout",
     "output_type": "stream",
     "text": [
      "   Div        Date   Time         HomeTeam           AwayTeam  FTHG  FTAG FTR  \\\n",
      "0  ARG  03/08/2012  23:00  Arsenal Sarandi  Union de Santa Fe   1.0   0.0   H   \n",
      "1  ARG  04/08/2012  01:10  Velez Sarsfield     Argentinos Jrs   3.0   0.0   H   \n",
      "2  ARG  04/08/2012  18:10      Racing Club       Atl. Rafaela   1.0   1.0   D   \n",
      "3  ARG  04/08/2012  20:10   Colon Santa FE              Lanus   1.0   0.0   H   \n",
      "4  ARG  04/08/2012  22:15          Quilmes       Boca Juniors   3.0   0.0   H   \n",
      "\n",
      "   AvgH  AvgD  AvgA  \n",
      "0  1.76  3.30  4.74  \n",
      "1  1.97  3.12  3.96  \n",
      "2  1.91  3.22  4.05  \n",
      "3  2.39  2.99  3.04  \n",
      "4  3.07  2.99  2.38  \n"
     ]
    }
   ],
   "source": [
    "print(df.head())"
   ]
  },
  {
   "cell_type": "code",
   "execution_count": 156,
   "metadata": {},
   "outputs": [
    {
     "data": {
      "text/plain": [
       "Div\n",
       "ARG    5090\n",
       "USA    4879\n",
       "BRA    4588\n",
       "MEX    3953\n",
       "JPN    3852\n",
       "ROU    3513\n",
       "POL    3425\n",
       "SWE    2942\n",
       "NOR    2933\n",
       "RUS    2876\n",
       "DNK    2531\n",
       "CHN    2383\n",
       "IRL    2258\n",
       "AUT    2227\n",
       "FIN    2217\n",
       "SWZ    2187\n",
       "Name: count, dtype: int64"
      ]
     },
     "execution_count": 156,
     "metadata": {},
     "output_type": "execute_result"
    }
   ],
   "source": [
    "df['Div'].value_counts()"
   ]
  },
  {
   "cell_type": "code",
   "execution_count": 157,
   "metadata": {},
   "outputs": [],
   "source": [
    "# Split the df into separate DataFrames for each country and save them to CSV\n",
    "for country in countries:\n",
    "    df_country = df[df['Div'] == country]\n",
    "    df_country.to_csv(f'data/cleaned/{country}.csv', index=False)"
   ]
  }
 ],
 "metadata": {
  "kernelspec": {
   "display_name": "Python 3",
   "language": "python",
   "name": "python3"
  },
  "language_info": {
   "codemirror_mode": {
    "name": "ipython",
    "version": 3
   },
   "file_extension": ".py",
   "mimetype": "text/x-python",
   "name": "python",
   "nbconvert_exporter": "python",
   "pygments_lexer": "ipython3",
   "version": "3.12.2"
  }
 },
 "nbformat": 4,
 "nbformat_minor": 2
}
